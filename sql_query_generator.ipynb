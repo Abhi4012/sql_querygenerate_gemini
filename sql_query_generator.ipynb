{
 "cells": [
  {
   "cell_type": "code",
   "execution_count": 1,
   "id": "bb48fa73",
   "metadata": {},
   "outputs": [],
   "source": [
    "import os\n",
    "import mysql.connector\n",
    "import pandas as pd\n",
    "import numpy  as np\n",
    "from langchain.chains import create_sql_query_chain\n",
    "from langchain_community.utilities import SQLDatabase\n",
    "from langchain_google_genai import ChatGoogleGenerativeAI"
   ]
  },
  {
   "cell_type": "code",
   "execution_count": 2,
   "id": "db1560f3",
   "metadata": {},
   "outputs": [],
   "source": [
    "import warnings\n",
    "warnings.filterwarnings('ignore')"
   ]
  },
  {
   "cell_type": "code",
   "execution_count": 3,
   "id": "ea5c0020",
   "metadata": {},
   "outputs": [],
   "source": [
    "# pip install langchain-google-genai"
   ]
  },
  {
   "cell_type": "code",
   "execution_count": 4,
   "id": "4c420f91",
   "metadata": {},
   "outputs": [],
   "source": [
    "# pip install langchain"
   ]
  },
  {
   "cell_type": "code",
   "execution_count": 5,
   "id": "53dd2a8b",
   "metadata": {},
   "outputs": [],
   "source": [
    "connection = mysql.connector.connect(host='localhost',\n",
    "                                  user='root',\n",
    "                                  password='xxxxxxxxxxxxx', # put your sql password here\n",
    "                                  database='classicmodels')"
   ]
  },
  {
   "cell_type": "code",
   "execution_count": 6,
   "id": "84ed38c5",
   "metadata": {},
   "outputs": [
    {
     "name": "stdout",
     "output_type": "stream",
     "text": [
      "  Tables_in_classicmodels\n",
      "0               customers\n",
      "1               employees\n",
      "2                 offices\n",
      "3            orderdetails\n",
      "4                  orders\n",
      "5                payments\n",
      "6            productlines\n",
      "7                products\n"
     ]
    }
   ],
   "source": [
    "db_tables=pd.read_sql_query('show tables',connection)\n",
    "print(db_tables)"
   ]
  },
  {
   "cell_type": "code",
   "execution_count": 7,
   "id": "4562cb3c",
   "metadata": {},
   "outputs": [
    {
     "name": "stdout",
     "output_type": "stream",
     "text": [
      "(273, 4)\n"
     ]
    },
    {
     "data": {
      "text/html": [
       "<div>\n",
       "<style scoped>\n",
       "    .dataframe tbody tr th:only-of-type {\n",
       "        vertical-align: middle;\n",
       "    }\n",
       "\n",
       "    .dataframe tbody tr th {\n",
       "        vertical-align: top;\n",
       "    }\n",
       "\n",
       "    .dataframe thead th {\n",
       "        text-align: right;\n",
       "    }\n",
       "</style>\n",
       "<table border=\"1\" class=\"dataframe\">\n",
       "  <thead>\n",
       "    <tr style=\"text-align: right;\">\n",
       "      <th></th>\n",
       "      <th>customerNumber</th>\n",
       "      <th>checkNumber</th>\n",
       "      <th>paymentDate</th>\n",
       "      <th>amount</th>\n",
       "    </tr>\n",
       "  </thead>\n",
       "  <tbody>\n",
       "    <tr>\n",
       "      <th>0</th>\n",
       "      <td>103</td>\n",
       "      <td>HQ336336</td>\n",
       "      <td>2004-10-19</td>\n",
       "      <td>6066.78</td>\n",
       "    </tr>\n",
       "    <tr>\n",
       "      <th>1</th>\n",
       "      <td>103</td>\n",
       "      <td>JM555205</td>\n",
       "      <td>2003-06-05</td>\n",
       "      <td>14571.44</td>\n",
       "    </tr>\n",
       "    <tr>\n",
       "      <th>2</th>\n",
       "      <td>103</td>\n",
       "      <td>OM314933</td>\n",
       "      <td>2004-12-18</td>\n",
       "      <td>1676.14</td>\n",
       "    </tr>\n",
       "    <tr>\n",
       "      <th>3</th>\n",
       "      <td>112</td>\n",
       "      <td>BO864823</td>\n",
       "      <td>2004-12-17</td>\n",
       "      <td>14191.12</td>\n",
       "    </tr>\n",
       "    <tr>\n",
       "      <th>4</th>\n",
       "      <td>112</td>\n",
       "      <td>HQ55022</td>\n",
       "      <td>2003-06-06</td>\n",
       "      <td>32641.98</td>\n",
       "    </tr>\n",
       "    <tr>\n",
       "      <th>...</th>\n",
       "      <td>...</td>\n",
       "      <td>...</td>\n",
       "      <td>...</td>\n",
       "      <td>...</td>\n",
       "    </tr>\n",
       "    <tr>\n",
       "      <th>268</th>\n",
       "      <td>495</td>\n",
       "      <td>BH167026</td>\n",
       "      <td>2003-12-26</td>\n",
       "      <td>59265.14</td>\n",
       "    </tr>\n",
       "    <tr>\n",
       "      <th>269</th>\n",
       "      <td>495</td>\n",
       "      <td>FN155234</td>\n",
       "      <td>2004-05-14</td>\n",
       "      <td>6276.60</td>\n",
       "    </tr>\n",
       "    <tr>\n",
       "      <th>270</th>\n",
       "      <td>496</td>\n",
       "      <td>EU531600</td>\n",
       "      <td>2005-05-25</td>\n",
       "      <td>30253.75</td>\n",
       "    </tr>\n",
       "    <tr>\n",
       "      <th>271</th>\n",
       "      <td>496</td>\n",
       "      <td>MB342426</td>\n",
       "      <td>2003-07-16</td>\n",
       "      <td>32077.44</td>\n",
       "    </tr>\n",
       "    <tr>\n",
       "      <th>272</th>\n",
       "      <td>496</td>\n",
       "      <td>MN89921</td>\n",
       "      <td>2004-12-31</td>\n",
       "      <td>52166.00</td>\n",
       "    </tr>\n",
       "  </tbody>\n",
       "</table>\n",
       "<p>273 rows × 4 columns</p>\n",
       "</div>"
      ],
      "text/plain": [
       "     customerNumber checkNumber paymentDate    amount\n",
       "0               103    HQ336336  2004-10-19   6066.78\n",
       "1               103    JM555205  2003-06-05  14571.44\n",
       "2               103    OM314933  2004-12-18   1676.14\n",
       "3               112    BO864823  2004-12-17  14191.12\n",
       "4               112     HQ55022  2003-06-06  32641.98\n",
       "..              ...         ...         ...       ...\n",
       "268             495    BH167026  2003-12-26  59265.14\n",
       "269             495    FN155234  2004-05-14   6276.60\n",
       "270             496    EU531600  2005-05-25  30253.75\n",
       "271             496    MB342426  2003-07-16  32077.44\n",
       "272             496     MN89921  2004-12-31  52166.00\n",
       "\n",
       "[273 rows x 4 columns]"
      ]
     },
     "execution_count": 7,
     "metadata": {},
     "output_type": "execute_result"
    }
   ],
   "source": [
    "query = \"select * from payments\"\n",
    "output = pd.read_sql(query,connection)\n",
    "print(output.shape)\n",
    "output"
   ]
  },
  {
   "cell_type": "code",
   "execution_count": 8,
   "id": "644889a9",
   "metadata": {},
   "outputs": [],
   "source": [
    "llm = ChatGoogleGenerativeAI(model=\"gemini-pro\", google_api_key='xxxxxxxxxxxxxxxxxxx') # keep your google gemini api key"
   ]
  },
  {
   "cell_type": "code",
   "execution_count": 9,
   "id": "fb60e925",
   "metadata": {},
   "outputs": [],
   "source": [
    "db = SQLDatabase.from_uri(\"mysql://root:your_sql_password here@localhost/classicmodels\")\n",
    "chain = create_sql_query_chain(llm, db)\n",
    "response = chain.invoke({\"question\": \"How many employees are there\"})"
   ]
  },
  {
   "cell_type": "code",
   "execution_count": 10,
   "id": "43b92894",
   "metadata": {
    "scrolled": true
   },
   "outputs": [
    {
     "name": "stdout",
     "output_type": "stream",
     "text": [
      "```sql\n",
      "SELECT COUNT(*) AS `number of employees`\n",
      "FROM employees;\n",
      "```\n"
     ]
    }
   ],
   "source": [
    "print(response)"
   ]
  },
  {
   "cell_type": "code",
   "execution_count": 11,
   "id": "a39a0b85",
   "metadata": {},
   "outputs": [],
   "source": [
    "response = chain.invoke({\"question\": \"what is the Highest payment made by employees\"})"
   ]
  },
  {
   "cell_type": "code",
   "execution_count": 12,
   "id": "11c85ff7",
   "metadata": {},
   "outputs": [
    {
     "name": "stdout",
     "output_type": "stream",
     "text": [
      "```sql\n",
      "SELECT \n",
      "    MAX(`amount`) AS `Highest Payment`\n",
      "FROM \n",
      "    `payments`;\n",
      "```\n"
     ]
    }
   ],
   "source": [
    "print(response)"
   ]
  },
  {
   "cell_type": "code",
   "execution_count": 13,
   "id": "8233d32c",
   "metadata": {},
   "outputs": [],
   "source": [
    "response = chain.invoke({\"question\": \"write sql query forthe Highest payment made by employees and his name\"})"
   ]
  },
  {
   "cell_type": "code",
   "execution_count": 14,
   "id": "8c16fbcb",
   "metadata": {},
   "outputs": [
    {
     "name": "stdout",
     "output_type": "stream",
     "text": [
      "```sql\n",
      "SELECT \n",
      "    MAX(amount) AS \"Highest Payment Made\",\n",
      "    e.`firstName` || ' ' || e.`lastName` AS \"Employee Name\"\n",
      "FROM \n",
      "    payments p\n",
      "JOIN \n",
      "    customers c ON p.`customerNumber` = c.`customerNumber`\n",
      "JOIN \n",
      "    employees e ON c.`salesRepEmployeeNumber` = e.`employeeNumber`\n",
      "GROUP BY \n",
      "    e.`employeeNumber`\n",
      "ORDER BY \n",
      "    \"Highest Payment Made\" DESC\n",
      "LIMIT \n",
      "    5;\n",
      "```\n"
     ]
    }
   ],
   "source": [
    "print(response)"
   ]
  },
  {
   "cell_type": "code",
   "execution_count": 15,
   "id": "f5c40cc9",
   "metadata": {},
   "outputs": [],
   "source": [
    "response = chain.invoke({\"question\": \"Write sql query for fetch highest amount from payement table\"})"
   ]
  },
  {
   "cell_type": "code",
   "execution_count": 16,
   "id": "86c73781",
   "metadata": {},
   "outputs": [
    {
     "name": "stdout",
     "output_type": "stream",
     "text": [
      "```sql\n",
      "SELECT MAX(amount) AS \"Highest Amount\"\n",
      "FROM payments;\n",
      "```\n"
     ]
    }
   ],
   "source": [
    "print(response)"
   ]
  },
  {
   "cell_type": "code",
   "execution_count": 17,
   "id": "acf30416",
   "metadata": {},
   "outputs": [
    {
     "name": "stdout",
     "output_type": "stream",
     "text": [
      "(1, 1)\n"
     ]
    },
    {
     "data": {
      "text/html": [
       "<div>\n",
       "<style scoped>\n",
       "    .dataframe tbody tr th:only-of-type {\n",
       "        vertical-align: middle;\n",
       "    }\n",
       "\n",
       "    .dataframe tbody tr th {\n",
       "        vertical-align: top;\n",
       "    }\n",
       "\n",
       "    .dataframe thead th {\n",
       "        text-align: right;\n",
       "    }\n",
       "</style>\n",
       "<table border=\"1\" class=\"dataframe\">\n",
       "  <thead>\n",
       "    <tr style=\"text-align: right;\">\n",
       "      <th></th>\n",
       "      <th>Highest Amount</th>\n",
       "    </tr>\n",
       "  </thead>\n",
       "  <tbody>\n",
       "    <tr>\n",
       "      <th>0</th>\n",
       "      <td>120166.58</td>\n",
       "    </tr>\n",
       "  </tbody>\n",
       "</table>\n",
       "</div>"
      ],
      "text/plain": [
       "   Highest Amount\n",
       "0       120166.58"
      ]
     },
     "execution_count": 17,
     "metadata": {},
     "output_type": "execute_result"
    }
   ],
   "source": [
    "query = \"\"\"SELECT MAX(amount) AS \"Highest Amount\" FROM payments\"\"\"\n",
    "output = pd.read_sql(query,connection)\n",
    "print(output.shape)\n",
    "output"
   ]
  },
  {
   "cell_type": "code",
   "execution_count": null,
   "id": "ca820cbd",
   "metadata": {},
   "outputs": [],
   "source": []
  }
 ],
 "metadata": {
  "kernelspec": {
   "display_name": "Python 3 (ipykernel)",
   "language": "python",
   "name": "python3"
  },
  "language_info": {
   "codemirror_mode": {
    "name": "ipython",
    "version": 3
   },
   "file_extension": ".py",
   "mimetype": "text/x-python",
   "name": "python",
   "nbconvert_exporter": "python",
   "pygments_lexer": "ipython3",
   "version": "3.10.9"
  }
 },
 "nbformat": 4,
 "nbformat_minor": 5
}
